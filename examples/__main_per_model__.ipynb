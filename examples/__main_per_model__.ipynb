{
 "cells": [
  {
   "cell_type": "markdown",
   "metadata": {},
   "source": [
    "Main notebook containing relevant analysis steps, run for each model. \n",
    "\n",
    "The script `notebook_per_model.py' automatically copies this notebook to an ensemble directory and executes it for newly trained ensembles using papermill.\n",
    "\n",
    "**Warning:** You can loose your work! Don't edit automatically created copies of this notebook within a model directory. Those will be overwritten at a rerun. Create a copy instead.\n",
    "\n",
    "**Warning:** This notebook is not intended for standalone use. It is automatically copied to an ensemble directory and executed for newly trained models using papermill. Adapt mindfully.\n"
   ]
  },
  {
   "cell_type": "code",
   "execution_count": 1,
   "metadata": {},
   "outputs": [],
   "source": [
    "import flyvision"
   ]
  },
  {
   "cell_type": "code",
   "execution_count": 2,
   "metadata": {
    "tags": [
     "parameters"
    ]
   },
   "outputs": [],
   "source": [
    "ensemble_and_network_id = \"0000/000\"  # type: str\n",
    "task_name = \"flow\"  # type: str"
   ]
  },
  {
   "cell_type": "code",
   "execution_count": 3,
   "metadata": {},
   "outputs": [
    {
     "name": "stderr",
     "output_type": "stream",
     "text": [
      "[2024-10-11 13:20:24] network_view:125 Initialized network view at /groups/turaga/home/lappalainenj/FlyVis/private/flyvision/data/results/flow/0000/000\n"
     ]
    }
   ],
   "source": [
    "network_view = flyvision.NetworkView(f\"{task_name}/{ensemble_and_network_id}\")"
   ]
  }
 ],
 "metadata": {
  "kernelspec": {
   "display_name": "flyvision",
   "language": "python",
   "name": "python3"
  },
  "language_info": {
   "codemirror_mode": {
    "name": "ipython",
    "version": 3
   },
   "file_extension": ".py",
   "mimetype": "text/x-python",
   "name": "python",
   "nbconvert_exporter": "python",
   "pygments_lexer": "ipython3",
   "version": "3.9.16"
  }
 },
 "nbformat": 4,
 "nbformat_minor": 2
}
