{
 "cells": [
  {
   "cell_type": "code",
   "execution_count": 1,
   "id": "65e528d5",
   "metadata": {},
   "outputs": [],
   "source": [
    "from flyvision import NetworkView\n",
    "from flyvision.connectome import ReceptiveFields\n",
    "from flyvision.utils.activity_utils import LayerActivity, SourceCurrentView\n",
    "# TODO: turn into script"
   ]
  },
  {
   "cell_type": "code",
   "execution_count": 2,
   "id": "85fb36cd",
   "metadata": {
    "tags": [
     "parameters"
    ]
   },
   "outputs": [],
   "source": [
    "# checkpoint\n",
    "ensemble_and_network_id = \"0000/000\"  # type: str\n",
    "task_name = \"flow\" # type: str\n",
    "\n",
    "# configure recording\n",
    "dt = 1 / 200  # type: float\n",
    "# cell types to store responses and currents for\n",
    "target_cell_types = [\"T4a\", \"T4b\", \"T4c\", \"T4d\", \"T5a\", \"T5b\", \"T5c\", \"T5d\", \"TmY3\"]\n",
    "\n"
   ]
  },
  {
   "cell_type": "code",
   "execution_count": 7,
   "id": "2c229af1",
   "metadata": {},
   "outputs": [
    {
     "name": "stderr",
     "output_type": "stream",
     "text": [
      "[2024-09-28 05:32:10] network:1005 Initialized network view at /groups/turaga/home/lappalainenj/FlyVis/private/flyvision/data/results/flow/0000/000.\n"
     ]
    }
   ],
   "source": [
    "network_view = NetworkView(\n",
    "    f\"{task_name}/{ensemble_and_network_id}\",\n",
    "    best_checkpoint_fn_kwargs={\n",
    "        \"validation_subdir\": \"validation\",\n",
    "        \"loss_file_name\": \"epe\"\n",
    "    }\n",
    ")"
   ]
  },
  {
   "cell_type": "code",
   "execution_count": 8,
   "id": "e0967c1d",
   "metadata": {},
   "outputs": [
    {
     "name": "stderr",
     "output_type": "stream",
     "text": [
      "[2024-09-28 05:32:24] network:252 Initialized network with NumberOfParams(free=734, fixed=2959) parameters.\n",
      "[2024-09-28 05:32:24] chkpt_utils:72 Recovered network state.\n"
     ]
    }
   ],
   "source": [
    "network = network_view.init_network()"
   ]
  },
  {
   "cell_type": "code",
   "execution_count": 34,
   "id": "bf2b10e3",
   "metadata": {},
   "outputs": [],
   "source": [
    "from dataclasses import dataclass, field\n",
    "from typing import Any, Dict, List\n",
    "\n",
    "@dataclass\n",
    "class TargetData:\n",
    "    activity_central: List[Any] = field(default_factory=list)\n",
    "    source_data: Dict[str, List[Any]] = field(default_factory=dict)\n",
    "\n",
    "@dataclass\n",
    "class ExperimentData:\n",
    "    config: Any\n",
    "    target_data: Dict[str, TargetData] = field(default_factory=dict)\n",
    "\n",
    "       \n",
    "def compute_currents(\n",
    "    network: \"flyvision.CheckpointedNetwork\",\n",
    "    dataset_class: type,\n",
    "    dataset_config: Dict,\n",
    "    t_pre: float = 2.0,\n",
    "    t_fade_in: float = 0.,\n",
    "    ):\n",
    "    print(\"running experiment\")\n",
    "    \n",
    "    # Reconstruct the network\n",
    "    network.recover()\n",
    "    network = network.network  # type: flyvision.Network\n",
    "    \n",
    "    # Initialize dataset\n",
    "    dataset = dataset_class(**dataset_config)\n",
    "\n",
    "    cell_index = network.connectome.central_cells_index[:]\n",
    "\n",
    "    # Initialize the experiment data\n",
    "    experiment_data = ExperimentData(config=dataset.config)\n",
    "\n",
    "    edges = network.connectome.edges.to_df()\n",
    "\n",
    "    # to store the responses and currents in a structured way\n",
    "    activity_indexer = LayerActivity(None, network_view.connectome, keepref=True)\n",
    "    source_current_indexer = {\n",
    "        target_type: SourceCurrentView(ReceptiveFields(target_type, edges), None)\n",
    "        for target_type in edges.target_type.unique()\n",
    "    }\n",
    "\n",
    "    # Initialize target_data in experiment_data\n",
    "    target_cell_types = edges.target_type.unique()\n",
    "    for target_type in target_cell_types:\n",
    "        experiment_data.target_data[target_type] = TargetData()\n",
    "\n",
    "    for _, activity, current in network.current_response(\n",
    "        dataset,\n",
    "        dt,\n",
    "        indices=None,\n",
    "        t_pre=t_pre,\n",
    "        t_fade_in=t_fade_in,\n",
    "    ):\n",
    "        # implementing computation and writing here together to save some runtime memory\n",
    "\n",
    "        # Update activity indexer\n",
    "        activity_indexer.update(activity)\n",
    "\n",
    "        for target_type in target_cell_types:\n",
    "            target_data = experiment_data.target_data[target_type]\n",
    "\n",
    "            # Append central activity data\n",
    "            target_data.activity_central.append(activity_indexer.central[target_type])\n",
    "\n",
    "            # Update source current indexer\n",
    "            source_current_indexer[target_type].update(current)\n",
    "            for source_type in source_current_indexer[target_type].source_types:\n",
    "                if source_type not in target_data.source_data:\n",
    "                    target_data.source_data[source_type] = []\n",
    "                # Append source current data\n",
    "                target_data.source_data[source_type].append(\n",
    "                    source_current_indexer[target_type][source_type]\n",
    "                )\n",
    "\n",
    "    return experiment_data"
   ]
  },
  {
   "cell_type": "code",
   "execution_count": 35,
   "id": "3efa02dd",
   "metadata": {},
   "outputs": [],
   "source": [
    "from __future__ import annotations\n",
    "from typing import Union, Dict, Optional\n",
    "import numpy as np\n",
    "\n",
    "def generic_currents(\n",
    "    network_view_or_ensemble: Union[\"flyvision.NetworkView\", \"flyvision.Ensemble\"],\n",
    "    dataset,\n",
    "    dataset_config: Dict,\n",
    "    default_dataset_cls: type,\n",
    "    t_pre: float,\n",
    "    t_fade_in: float,\n",
    ") -> xr.Dataset:\n",
    "    \"\"\"Return responses for a given dataset as an xarray Dataset.\"\"\"\n",
    "    # Handle both single and multiple NetworkViews\n",
    "    if isinstance(network_view_or_ensemble, flyvision.NetworkView):\n",
    "        network_views = [network_view_or_ensemble]\n",
    "    else:\n",
    "        network_views = list(network_view_or_ensemble.values())\n",
    "\n",
    "    # Prepare dataset class\n",
    "    dataset_class = default_dataset_cls if dataset is None else type(dataset)\n",
    "    dataset_config = dataset_config if dataset is None else dataset.config.to_dict()\n",
    "\n",
    "    # quick bugfix from datasets that have type in their config but don't expect it\n",
    "    dataset_config.pop(\"type\", None)\n",
    "\n",
    "    # Prepare list to collect datasets\n",
    "    results = []\n",
    "    checkpoints = []\n",
    "\n",
    "    def handle_network(idx, network_view, network=None):\n",
    "        # Pass initialized network over to next network view to avoid\n",
    "        # reinitializing the network\n",
    "        checkpointed_network = network_view.network(\n",
    "            checkpoint=\"best\", network=network, lazy=True\n",
    "        )\n",
    "\n",
    "        # use the cache from this network_view\n",
    "        cached_compute_responses_fn = network_view.memory.cache(\n",
    "            compute_currents,\n",
    "        )\n",
    "        call_in_cache = cached_compute_responses_fn.check_call_in_cache(\n",
    "            checkpointed_network,\n",
    "            dataset_class,\n",
    "            dataset_config,\n",
    "            t_pre,\n",
    "            t_fade_in,\n",
    "        )\n",
    "\n",
    "        if call_in_cache:\n",
    "            # don't initialize the network when the call is in cache\n",
    "            # print('call in cache')\n",
    "            pass\n",
    "        elif network is None and checkpointed_network.network is None:\n",
    "            # initialize the network when the call is not in cache\n",
    "            # and the network is not passed from the previous network view\n",
    "            # print('call not in cache, init network')\n",
    "            checkpointed_network.init()\n",
    "\n",
    "        # Call the cached compute_responses function\n",
    "        results.append(\n",
    "            cached_compute_responses_fn(\n",
    "                checkpointed_network,\n",
    "                dataset_class,\n",
    "                dataset_config,\n",
    "                t_pre,\n",
    "                t_fade_in,\n",
    "            )  # type: xr.Dataset\n",
    "        )\n",
    "        checkpoints.append(checkpointed_network.checkpoint)\n",
    "        return checkpointed_network.network\n",
    "\n",
    "    network = handle_network(0, network_views[0], None)\n",
    "\n",
    "    for idx, network_view in enumerate(network_views[1:], 1):\n",
    "        network = handle_network(idx, network_view, network)\n",
    "        \n",
    "    return results"
   ]
  },
  {
   "cell_type": "code",
   "execution_count": 36,
   "id": "4eb11b70",
   "metadata": {},
   "outputs": [],
   "source": [
    "import flyvision\n",
    "from flyvision.datasets.moving_bar import MovingEdge"
   ]
  },
  {
   "cell_type": "code",
   "execution_count": 37,
   "id": "a0c04dcc",
   "metadata": {},
   "outputs": [],
   "source": [
    "def moving_edge_currents(\n",
    "    network_view_or_ensemble: Union[\"flyvision.NetworkView\", \"flyvision.Ensemble\"],\n",
    "    dataset: Optional[MovingEdge] = None,\n",
    "    speeds=(2.4, 4.8, 9.7, 13, 19, 25),\n",
    "    offsets=(-10, 11),\n",
    "    dt=1 / 200,\n",
    "    batch_size=4,\n",
    ") -> xr.Dataset:\n",
    "    default_dataset_config = dict(widths=[80],\n",
    "        offsets=[-10, 11],\n",
    "        intensities=[0, 1],\n",
    "        speeds=[19],\n",
    "        height=80,\n",
    "        bar_loc_horizontal=0.0,\n",
    "        shuffle_offsets=False,\n",
    "        post_pad_mode=\"continue\",\n",
    "        t_pre=1.0,\n",
    "        t_post=1.0,\n",
    "        dt=1 / 200,\n",
    "        angles=[0, 45, 90, 180, 225, 270],)\n",
    "    return generic_currents(\n",
    "        network_view_or_ensemble,\n",
    "        dataset,\n",
    "        default_dataset_config,\n",
    "        MovingEdge,\n",
    "        t_pre=1.0,\n",
    "        t_fade_in=0.0,\n",
    "    )"
   ]
  },
  {
   "cell_type": "code",
   "execution_count": 39,
   "id": "0fa58620",
   "metadata": {},
   "outputs": [],
   "source": [
    "moving_edge_currents(network_view)"
   ]
  },
  {
   "cell_type": "code",
   "execution_count": 23,
   "id": "e694e275",
   "metadata": {},
   "outputs": [],
   "source": [
    "def main(dataset):\n",
    "    print(\"running experiment\")\n",
    "\n",
    "    del network_view.dir[subdir]\n",
    "    network_view.dir[subdir].path.mkdir(parents=True, exist_ok=True)\n",
    "    network_view.dir[subdir].config = dataset.config\n",
    "    edges = network.connectome.edges.to_df()\n",
    "\n",
    "    # to store the responses and currents in a structured way\n",
    "    activity_indexer = LayerActivity(None, network_view.connectome, keepref=True)\n",
    "    source_current_indexer = {\n",
    "        target_type: SourceCurrentView(ReceptiveFields(target_type, edges), None)\n",
    "        for target_type in edges.target_type.unique()\n",
    "    }\n",
    "\n",
    "    for _, activity, current in network_view.network.current_response(\n",
    "        dataset,\n",
    "        dt,\n",
    "        indices=None,\n",
    "        t_pre=2,\n",
    "        t_fade_in=0,\n",
    "    ):\n",
    "        # implementing computation and writing here together to save some runtime memory\n",
    "\n",
    "        # add an empty sample dimension\n",
    "        activity_indexer.update(activity)\n",
    "        for target_type in target_cell_types:\n",
    "            network_view.dir[subdir][target_type].extend(\n",
    "                \"activity_central\", [activity_indexer.central[target_type]]\n",
    "            )\n",
    "            for source_type in source_current_indexer[target_type].source_types:\n",
    "                source_current_indexer[target_type].update(current)\n",
    "                network_view.dir[subdir][target_type].extend(\n",
    "                    source_type, [source_current_indexer[target_type][source_type]]\n",
    "                )"
   ]
  },
  {
   "cell_type": "markdown",
   "id": "60527801",
   "metadata": {},
   "source": [
    "# run moving edge stimulus"
   ]
  },
  {
   "cell_type": "code",
   "execution_count": 25,
   "id": "07bf9d84",
   "metadata": {},
   "outputs": [],
   "source": [
    "from flyvision.datasets.moving_bar import MovingEdge"
   ]
  },
  {
   "cell_type": "code",
   "execution_count": null,
   "id": "9a3c0495",
   "metadata": {},
   "outputs": [],
   "source": [
    "default_dataset_config = dict(widths=[80],\n",
    "        offsets=[-10, 11],\n",
    "        intensities=[0, 1],\n",
    "        speeds=[19],\n",
    "        height=80,\n",
    "        bar_loc_horizontal=0.0,\n",
    "        shuffle_offsets=False,\n",
    "        post_pad_mode=\"continue\",\n",
    "        t_pre=1.0,\n",
    "        t_post=1.0,\n",
    "        dt=1 / 200,\n",
    "        angles=[0, 45, 90, 180, 225, 270],)"
   ]
  },
  {
   "cell_type": "code",
   "execution_count": 27,
   "id": "4f44c074",
   "metadata": {},
   "outputs": [],
   "source": [
    "dataset = MovingEdge(\n",
    "        widths=[80],\n",
    "        offsets=[-10, 11],\n",
    "        intensities=[0, 1],\n",
    "        speeds=[19],\n",
    "        height=80,\n",
    "        bar_loc_horizontal=0.0,\n",
    "        shuffle_offsets=False,\n",
    "        post_pad_mode=\"continue\",\n",
    "        t_pre=1.0,\n",
    "        t_post=1.0,\n",
    "        dt=1 / 200,\n",
    "        angles=[0, 45, 90, 180, 225, 270],\n",
    ")"
   ]
  },
  {
   "cell_type": "code",
   "execution_count": null,
   "id": "b5015aa9",
   "metadata": {
    "scrolled": true
   },
   "outputs": [],
   "source": [
    "main(dataset)"
   ]
  },
  {
   "cell_type": "code",
   "execution_count": null,
   "id": "02d2e9bc",
   "metadata": {},
   "outputs": [],
   "source": []
  }
 ],
 "metadata": {
  "celltoolbar": "Tags",
  "kernelspec": {
   "display_name": "Python 3 (ipykernel)",
   "language": "python",
   "name": "python3"
  },
  "language_info": {
   "codemirror_mode": {
    "name": "ipython",
    "version": 3
   },
   "file_extension": ".py",
   "mimetype": "text/x-python",
   "name": "python",
   "nbconvert_exporter": "python",
   "pygments_lexer": "ipython3",
   "version": "3.9.16"
  },
  "toc": {
   "base_numbering": 1,
   "nav_menu": {},
   "number_sections": true,
   "sideBar": false,
   "skip_h1_title": false,
   "title_cell": "Table of Contents",
   "title_sidebar": "Contents",
   "toc_cell": false,
   "toc_position": {},
   "toc_section_display": true,
   "toc_window_display": false
  }
 },
 "nbformat": 4,
 "nbformat_minor": 5
}
