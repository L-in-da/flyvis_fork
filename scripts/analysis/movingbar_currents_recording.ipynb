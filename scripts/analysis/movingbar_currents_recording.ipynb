{
 "cells": [
  {
   "cell_type": "code",
   "execution_count": 17,
   "id": "65e528d5",
   "metadata": {},
   "outputs": [],
   "source": [
    "from flyvision import NetworkView\n",
    "from flyvision.connectome import ReceptiveFields\n",
    "from flyvision.utils.activity_utils import LayerActivity, SourceCurrentView"
   ]
  },
  {
   "cell_type": "code",
   "execution_count": 2,
   "id": "85fb36cd",
   "metadata": {
    "tags": [
     "parameters"
    ]
   },
   "outputs": [],
   "source": [
    "# checkpoint\n",
    "ensemble_and_network_id = \"0000/000\"  # type: str\n",
    "task_name = \"flow\" # type: str\n",
    "checkpoint='best'\n",
    "validation_subdir='validation'\n",
    "loss_file_name='loss'\n",
    "\n",
    "# configure recording\n",
    "dt = 1 / 200  # type: float\n",
    "# cell types to store responses and currents for\n",
    "target_cell_types = [\"T4a\", \"T4b\", \"T4c\", \"T4d\", \"T5a\", \"T5b\", \"T5c\", \"T5d\", \"TmY3\"]\n",
    "\n"
   ]
  },
  {
   "cell_type": "code",
   "execution_count": null,
   "id": "2c229af1",
   "metadata": {},
   "outputs": [],
   "source": [
    "network_view = NetworkView(\n",
    "    f\"{task_name}/{ensemble_and_network_id}\",\n",
    "    checkpoint=checkpoint,\n",
    "    validation_subdir=validation_subdir,\n",
    "    loss_file_name=loss_file_name,\n",
    ")\n",
    "\n",
    "\n",
    "# store\n",
    "subdir = f\"movingedge_responses/{network_view.checkpoints.current_chkpt_key}/currents\""
   ]
  },
  {
   "cell_type": "code",
   "execution_count": null,
   "id": "e0967c1d",
   "metadata": {},
   "outputs": [],
   "source": [
    "network = network_view.init_network()"
   ]
  },
  {
   "cell_type": "code",
   "execution_count": 23,
   "id": "e694e275",
   "metadata": {},
   "outputs": [],
   "source": [
    "def main(dataset):\n",
    "    print(\"running experiment\")\n",
    "\n",
    "    del network_view.dir[subdir]\n",
    "    network_view.dir[subdir].path.mkdir(parents=True, exist_ok=True)\n",
    "    network_view.dir[subdir].config = dataset.config\n",
    "    edges = network.connectome.edges.to_df()\n",
    "\n",
    "    # to store the responses and currents in a structured way\n",
    "    activity_indexer = LayerActivity(None, network_view.connectome, keepref=True)\n",
    "    source_current_indexer = {\n",
    "        target_type: SourceCurrentView(ReceptiveFields(target_type, edges), None)\n",
    "        for target_type in edges.target_type.unique()\n",
    "    }\n",
    "\n",
    "    activities = []\n",
    "    currents = []\n",
    "    for _, activity, current in network_view.network.current_response(\n",
    "        dataset,\n",
    "        dt,\n",
    "        indices=None,\n",
    "        t_pre=2,\n",
    "        t_fade_in=0,\n",
    "    ):\n",
    "        # implementing computation and writing here together to save some runtime memory\n",
    "\n",
    "        # add an empty sample dimension\n",
    "        activity_indexer.update(activity)\n",
    "        for target_type in target_cell_types:\n",
    "            network_view.dir[subdir][target_type].extend(\n",
    "                \"activity_central\", [activity_indexer.central[target_type]]\n",
    "            )\n",
    "            for source_type in source_current_indexer[target_type].source_types:\n",
    "                source_current_indexer[target_type].update(current)\n",
    "                network_view.dir[subdir][target_type].extend(\n",
    "                    source_type, [source_current_indexer[target_type][source_type]]\n",
    "                )"
   ]
  },
  {
   "cell_type": "markdown",
   "id": "60527801",
   "metadata": {},
   "source": [
    "# run moving edge stimulus"
   ]
  },
  {
   "cell_type": "code",
   "execution_count": 25,
   "id": "07bf9d84",
   "metadata": {},
   "outputs": [],
   "source": [
    "from flyvision.datasets.moving_bar import MovingEdge"
   ]
  },
  {
   "cell_type": "code",
   "execution_count": 27,
   "id": "4f44c074",
   "metadata": {},
   "outputs": [],
   "source": [
    "dataset = MovingEdge(\n",
    "        widths=[80],\n",
    "        offsets=[-10, 11],\n",
    "        intensities=[0, 1],\n",
    "        speeds=[19],\n",
    "        height=80,\n",
    "        bar_loc_horizontal=0.0,\n",
    "        shuffle_offsets=False,\n",
    "        post_pad_mode=\"continue\",\n",
    "        t_pre=1.0,\n",
    "        t_post=1.0,\n",
    "        dt=1 / 200,\n",
    "        angles=[0, 45, 90, 180, 225, 270],\n",
    ")"
   ]
  },
  {
   "cell_type": "code",
   "execution_count": null,
   "id": "b5015aa9",
   "metadata": {
    "scrolled": true
   },
   "outputs": [],
   "source": [
    "main(dataset)"
   ]
  },
  {
   "cell_type": "code",
   "execution_count": null,
   "id": "02d2e9bc",
   "metadata": {},
   "outputs": [],
   "source": []
  }
 ],
 "metadata": {
  "celltoolbar": "Tags",
  "kernelspec": {
   "display_name": "Python 3 (ipykernel)",
   "language": "python",
   "name": "python3"
  },
  "toc": {
   "base_numbering": 1,
   "nav_menu": {},
   "number_sections": true,
   "sideBar": false,
   "skip_h1_title": false,
   "title_cell": "Table of Contents",
   "title_sidebar": "Contents",
   "toc_cell": false,
   "toc_position": {},
   "toc_section_display": true,
   "toc_window_display": false
  }
 },
 "nbformat": 4,
 "nbformat_minor": 5
}
